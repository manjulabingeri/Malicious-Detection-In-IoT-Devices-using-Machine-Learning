{
 "cells": [
  {
   "cell_type": "code",
   "execution_count": 1,
   "metadata": {},
   "outputs": [
    {
     "name": "stdout",
     "output_type": "stream",
     "text": [
      "Libraries updated\n"
     ]
    }
   ],
   "source": [
    "import numpy as np # linear algebra\n",
    "import pandas as pd # data processing, CSV file I/O (e.g. pd.read_csv)\n",
    "import os\n",
    "from glob import glob\n",
    "\n",
    "import matplotlib.pyplot as plt\n",
    "import matplotlib.image as mpimg\n",
    "import seaborn as sns\n",
    "\n",
    "from sklearn.model_selection import train_test_split\n",
    "from sklearn.linear_model import LogisticRegression\n",
    "from sklearn.neighbors import KNeighborsClassifier\n",
    "from sklearn import svm\n",
    "from sklearn.ensemble import RandomForestClassifier\n",
    "\n",
    "from sklearn.metrics import accuracy_score\n",
    "\n",
    "import warnings\n",
    "warnings.filterwarnings(\"ignore\")\n",
    "\n",
    "\n",
    "print(\"Libraries updated\")\n"
   ]
  },
  {
   "cell_type": "code",
   "execution_count": 2,
   "metadata": {},
   "outputs": [
    {
     "name": "stdout",
     "output_type": "stream",
     "text": [
      "Number of columns in the dataframe: 18\n",
      "Number of rows in the dataframe: 149999\n",
      "\n",
      "['ts', 'uid', 'id.orig_h', 'id.orig_p', 'id.resp_h', 'id.resp_p', 'proto', 'duration', 'orig_bytes', 'resp_bytes', 'conn_state', 'missed_bytes', 'history', 'orig_pkts', 'orig_ip_bytes', 'resp_pkts', 'resp_ip_bytes', 'Detailed_Label']\n",
      "HorizontalPortScan    81979\n",
      "Benign                68020\n",
      "Name: Detailed_Label, dtype: int64 \n",
      "\n"
     ]
    }
   ],
   "source": [
    "# Load data set containing all the data from csv\n",
    "df = pd.read_csv('CTU-IoT-Malware-Capture-1-1.csv')\n",
    "# Describe the data, Shape and how many rows and columns\n",
    "print('Number of columns in the dataframe: %i' % (df.shape[1]))\n",
    "print('Number of rows in the dataframe: %i\\n' % (df.shape[0]))\n",
    "print(list(df.columns))\n",
    "print(df['Detailed_Label'].value_counts(), '\\n')\n"
   ]
  },
  {
   "cell_type": "code",
   "execution_count": 3,
   "metadata": {},
   "outputs": [
    {
     "name": "stdout",
     "output_type": "stream",
     "text": [
      "Number of columns in the dataframe: 18\n",
      "Number of rows in the dataframe: 19023\n",
      "\n",
      "['ts', 'uid', 'id.orig_h', 'id.orig_p', 'id.resp_h', 'id.resp_p', 'proto', 'duration', 'orig_bytes', 'resp_bytes', 'conn_state', 'missed_bytes', 'history', 'orig_pkts', 'orig_ip_bytes', 'resp_pkts', 'resp_ip_bytes', 'Detailed_Label']\n",
      "C&C       14921\n",
      "Benign     4102\n",
      "Name: Detailed_Label, dtype: int64 \n",
      "\n"
     ]
    }
   ],
   "source": [
    "# Load data set containing all the data from csv\n",
    "df2 = pd.read_csv('CTU-IoT-Malware-Capture-8-34.csv')\n",
    "# Describe the data, Shape and how many rows and columns\n",
    "print('Number of columns in the dataframe: %i' % (df2.shape[1]))\n",
    "print('Number of rows in the dataframe: %i\\n' % (df2.shape[0]))\n",
    "print(list(df2.columns))\n",
    "print(df2['Detailed_Label'].value_counts(), '\\n')\n"
   ]
  },
  {
   "cell_type": "code",
   "execution_count": 4,
   "metadata": {},
   "outputs": [
    {
     "name": "stdout",
     "output_type": "stream",
     "text": [
      "Number of columns in the dataframe: 18\n",
      "Number of rows in the dataframe: 23288\n",
      "\n",
      "['ts', 'uid', 'id.orig_h', 'id.orig_p', 'id.resp_h', 'id.resp_p', 'proto', 'duration', 'orig_bytes', 'resp_bytes', 'conn_state', 'missed_bytes', 'history', 'orig_pkts', 'orig_ip_bytes', 'resp_pkts', 'resp_ip_bytes', 'Detailed_Label']\n",
      "DDoS      22735\n",
      "Benign      459\n",
      "C&C          94\n",
      "Name: Detailed_Label, dtype: int64 \n",
      "\n"
     ]
    }
   ],
   "source": [
    "# Load data set containing all the data from csv\n",
    "df3 = pd.read_csv('CTU-IoT-Malware-Capture-16.csv')\n",
    "# Describe the data, Shape and how many rows and columns\n",
    "print('Number of columns in the dataframe: %i' % (df3.shape[1]))\n",
    "print('Number of rows in the dataframe: %i\\n' % (df3.shape[0]))\n",
    "print(list(df3.columns))\n",
    "print(df3['Detailed_Label'].value_counts(), '\\n')\n"
   ]
  },
  {
   "cell_type": "code",
   "execution_count": 5,
   "metadata": {
    "scrolled": true
   },
   "outputs": [
    {
     "name": "stdout",
     "output_type": "stream",
     "text": [
      "(192310, 18)\n",
      "HorizontalPortScan    81979\n",
      "Benign                72581\n",
      "DDoS                  22735\n",
      "C&C                   15015\n",
      "Name: Detailed_Label, dtype: int64 \n",
      "\n",
      "           ts                 uid        id.orig_h  id.orig_p  \\\n",
      "0  1525879831  CUmrqr4svHuSXJy5z7  192.168.100.103      51524   \n",
      "1  1525879831  CH98aB3s1kJeq6SFOc  192.168.100.103      56305   \n",
      "2  1525879831   C3GBTkINvXNjVGtN5  192.168.100.103      41101   \n",
      "3  1525879832   CDe43c1PtgynajGI6  192.168.100.103      60905   \n",
      "4  1525879832  CJaDcG3MZzvf1YVYI4  192.168.100.103      44301   \n",
      "\n",
      "         id.resp_h id.resp_p proto  duration orig_bytes resp_bytes conn_state  \\\n",
      "0   65.127.233.163        23   tcp  2.999051          0          0         S0   \n",
      "1    63.150.16.171        23   tcp         -          -          -         S0   \n",
      "2     111.40.23.49        23   tcp         -          -          -         S0   \n",
      "3  131.174.215.147        23   tcp  2.998796          0          0         S0   \n",
      "4      91.42.47.63        23   tcp         -          -          -         S0   \n",
      "\n",
      "   missed_bytes history  orig_pkts  orig_ip_bytes  resp_pkts  resp_ip_bytes  \\\n",
      "0             0       S          3            180          0              0   \n",
      "1             0       S          1             60          0              0   \n",
      "2             0       S          1             60          0              0   \n",
      "3             0       S          3            180          0              0   \n",
      "4             0       S          1             60          0              0   \n",
      "\n",
      "       Detailed_Label  \n",
      "0  HorizontalPortScan  \n",
      "1  HorizontalPortScan  \n",
      "2  HorizontalPortScan  \n",
      "3  HorizontalPortScan  \n",
      "4  HorizontalPortScan   \n",
      "\n",
      "                 ts      id.orig_p   missed_bytes     orig_pkts  \\\n",
      "count  1.923100e+05  192310.000000  192310.000000  1.923100e+05   \n",
      "mean   1.532392e+09   41958.248167       0.256003  1.319141e+03   \n",
      "std    1.424398e+07   13698.212445      35.562026  1.981487e+05   \n",
      "min    1.525880e+09       0.000000       0.000000  0.000000e+00   \n",
      "25%    1.525897e+09   39310.250000       0.000000  1.000000e+00   \n",
      "50%    1.525916e+09   43763.000000       0.000000  1.000000e+00   \n",
      "75%    1.525934e+09   49550.000000       0.000000  1.000000e+00   \n",
      "max    1.569018e+09   65532.000000    5792.000000  6.602735e+07   \n",
      "\n",
      "       orig_ip_bytes      resp_pkts  resp_ip_bytes  \n",
      "count   1.923100e+05  192310.000000  192310.000000  \n",
      "mean    4.795350e+04       0.319718      28.908803  \n",
      "std     6.667831e+06       3.980799     960.028522  \n",
      "min     0.000000e+00       0.000000       0.000000  \n",
      "25%     4.000000e+01       0.000000       0.000000  \n",
      "50%     6.000000e+01       0.000000       0.000000  \n",
      "75%     6.000000e+01       0.000000       0.000000  \n",
      "max     1.914793e+09    1070.000000  168910.000000   \n",
      "\n"
     ]
    }
   ],
   "source": [
    "df = pd.concat([df, df2, df3])\n",
    "print(df.shape)\n",
    "print(df['Detailed_Label'].value_counts(), '\\n')\n",
    "\n",
    "print( df.head(5), '\\n' )\n",
    "print(df.describe(), '\\n')\n"
   ]
  },
  {
   "cell_type": "code",
   "execution_count": 6,
   "metadata": {},
   "outputs": [
    {
     "name": "stdout",
     "output_type": "stream",
     "text": [
      "ts                0\n",
      "uid               0\n",
      "id.orig_h         0\n",
      "id.orig_p         0\n",
      "id.resp_h         0\n",
      "id.resp_p         0\n",
      "proto             0\n",
      "duration          0\n",
      "orig_bytes        0\n",
      "resp_bytes        0\n",
      "conn_state        0\n",
      "missed_bytes      0\n",
      "history           0\n",
      "orig_pkts         0\n",
      "orig_ip_bytes     0\n",
      "resp_pkts         0\n",
      "resp_ip_bytes     0\n",
      "Detailed_Label    0\n",
      "dtype: int64\n"
     ]
    }
   ],
   "source": [
    "print(df.isnull().sum())\n"
   ]
  },
  {
   "cell_type": "code",
   "execution_count": 7,
   "metadata": {},
   "outputs": [
    {
     "name": "stdout",
     "output_type": "stream",
     "text": [
      "(192310, 9)\n"
     ]
    }
   ],
   "source": [
    "#not interested columns\n",
    "del df['ts']\n",
    "del df['uid']\n",
    "del df['id.orig_h']\n",
    "del df['id.orig_p']\n",
    "del df['id.resp_h']\n",
    "del df['id.resp_p']\n",
    "del df['proto']\n",
    "#del df['local_resp']\n",
    "del df['conn_state']\n",
    "del df['history']\n",
    "\n",
    "print(df.shape)\n"
   ]
  },
  {
   "cell_type": "code",
   "execution_count": 8,
   "metadata": {
    "scrolled": true
   },
   "outputs": [
    {
     "data": {
      "image/png": "[encoded data removed]",
      "text/plain": [
       "<Figure size 432x288 with 1 Axes>"
      ]
     },
     "metadata": {
      "needs_background": "light"
     },
     "output_type": "display_data"
    }
   ],
   "source": [
    "group_class = df.groupby('Detailed_Label').count()\n",
    "plt.bar(['DDoS','Benign','C&C','HorizontalPortScan'], group_class['orig_bytes'].values)\n",
    "plt.savefig('Output Malware Label Graph')\n",
    "plt.show()"
   ]
  },
  {
   "cell_type": "code",
   "execution_count": 9,
   "metadata": {},
   "outputs": [],
   "source": [
    "df['duration'] = df['duration'].str.replace('-','0')\n",
    "df['orig_bytes'] = df['orig_bytes'].str.replace('-','0')\n",
    "df['orig_bytes'] = df['orig_bytes'].str.replace('OTH','0')\n",
    "df['resp_bytes'] = df['resp_bytes'].str.replace('-','0')\n"
   ]
  },
  {
   "cell_type": "code",
   "execution_count": 10,
   "metadata": {},
   "outputs": [
    {
     "name": "stdout",
     "output_type": "stream",
     "text": [
      "(192310, 9)\n"
     ]
    }
   ],
   "source": [
    "df.dropna(inplace=True)\n",
    "print(df.shape)\n"
   ]
  },
  {
   "cell_type": "code",
   "execution_count": 11,
   "metadata": {},
   "outputs": [
    {
     "name": "stdout",
     "output_type": "stream",
     "text": [
      "HorizontalPortScan    81979\n",
      "Benign                72581\n",
      "DDoS                  22735\n",
      "C&C                   15015\n",
      "Name: Detailed_Label, dtype: int64 \n",
      "\n",
      "3    81979\n",
      "0    72581\n",
      "2    22735\n",
      "1    15015\n",
      "Name: Detailed_Label, dtype: int64 \n",
      "\n"
     ]
    }
   ],
   "source": [
    "print(df['Detailed_Label'].value_counts(), '\\n' )\n",
    "df.Detailed_Label=df.Detailed_Label.map({'Benign':0,'C&C':1,'DDoS':2,'HorizontalPortScan':3})\n",
    "print(df['Detailed_Label'].value_counts(), '\\n' )\n",
    "\n"
   ]
  },
  {
   "cell_type": "code",
   "execution_count": 12,
   "metadata": {},
   "outputs": [
    {
     "data": {
      "text/plain": [
       "<matplotlib.colorbar.Colorbar at 0x1c973c96bc8>"
      ]
     },
     "execution_count": 12,
     "metadata": {},
     "output_type": "execute_result"
    },
    {
     "data": {
      "image/png": "[encoded data removed]",
      "text/plain": [
       "<Figure size 576x576 with 2 Axes>"
      ]
     },
     "metadata": {
      "needs_background": "light"
     },
     "output_type": "display_data"
    }
   ],
   "source": [
    "from matplotlib import rcParams\n",
    "rcParams['figure.figsize'] = 16, 8\n",
    "plt.matshow(df.corr())\n",
    "plt.xticks(range(df.select_dtypes(['number']).shape[1]), df.select_dtypes(['number']).columns, fontsize=14, rotation=45)\n",
    "plt.yticks(range(df.select_dtypes(['number']).shape[1]), df.select_dtypes(['number']).columns, fontsize=14)\n",
    "plt.savefig('Feature Correlation Matrix 1')\n",
    "plt.colorbar()\n"
   ]
  },
  {
   "cell_type": "code",
   "execution_count": 13,
   "metadata": {},
   "outputs": [
    {
     "data": {
      "image/png": "[encoded data removed]",
      "text/plain": [
       "<Figure size 1152x576 with 1 Axes>"
      ]
     },
     "metadata": {
      "needs_background": "light"
     },
     "output_type": "display_data"
    }
   ],
   "source": [
    "from sklearn.ensemble import RandomForestRegressor\n",
    "\n",
    "X = df.iloc[:,0:8]\n",
    "y = df.iloc[:,-1]  \n",
    "\n",
    "# define the model\n",
    "model = RandomForestRegressor()\n",
    "# fit the model\n",
    "model.fit(X, y)\n",
    "# get importance\n",
    "importances = model.feature_importances_\n",
    "\n",
    "# Sort the feature importance in descending order\n",
    "sorted_indices = np.argsort(importances)[::-1]\n",
    "plt.title('Feature Importance')\n",
    "plt.bar(range(X.shape[1]), importances[sorted_indices], align='center')\n",
    "plt.xticks(range(X.shape[1]), X.columns[sorted_indices], rotation=90)\n",
    "plt.tight_layout()\n",
    "plt.savefig('Feature Importance')\n",
    "plt.show()\n",
    "\n"
   ]
  },
  {
   "cell_type": "code",
   "execution_count": 14,
   "metadata": {},
   "outputs": [
    {
     "name": "stdout",
     "output_type": "stream",
     "text": [
      "60      66451\n",
      "40      56053\n",
      "180     33333\n",
      "0       22729\n",
      "76       5226\n",
      "        ...  \n",
      "1378        1\n",
      "1208        1\n",
      "738         1\n",
      "1592        1\n",
      "1663        1\n",
      "Name: orig_ip_bytes, Length: 676, dtype: int64 \n",
      "\n"
     ]
    }
   ],
   "source": [
    "print(df['orig_ip_bytes'].value_counts(), '\\n')"
   ]
  },
  {
   "cell_type": "code",
   "execution_count": 15,
   "metadata": {},
   "outputs": [
    {
     "name": "stdout",
     "output_type": "stream",
     "text": [
      "missed_bytes     0     2896  5792\n",
      "Detailed_Label                   \n",
      "0               72570     5     6\n",
      "1               15015     0     0\n",
      "2               22735     0     0\n",
      "3               81979     0     0\n"
     ]
    }
   ],
   "source": [
    "print(pd.crosstab(df['Detailed_Label'],df['missed_bytes']))\n"
   ]
  },
  {
   "cell_type": "code",
   "execution_count": 16,
   "metadata": {},
   "outputs": [
    {
     "name": "stdout",
     "output_type": "stream",
     "text": [
      "orig_ip_bytes   0           40          56          60          67          \\\n",
      "Detailed_Label                                                               \n",
      "0                        8       56050        1332        4530          46   \n",
      "1                        0           0           0        8576           0   \n",
      "2                    22715           0           0           0           0   \n",
      "3                        6           3           0       53345           0   \n",
      "\n",
      "orig_ip_bytes   68          72          74          76          80          \\\n",
      "Detailed_Label                                                               \n",
      "0                     1844           2           3        5226          25   \n",
      "1                        0           0           0           0           0   \n",
      "2                        0           0           0           0           0   \n",
      "3                        0           0           0           0           0   \n",
      "\n",
      "orig_ip_bytes   ...  303754740   415254422   485588064   486569308   \\\n",
      "Detailed_Label  ...                                                   \n",
      "0               ...           0           1           0           0   \n",
      "1               ...           0           0           0           0   \n",
      "2               ...           1           0           1           1   \n",
      "3               ...           0           0           0           0   \n",
      "\n",
      "orig_ip_bytes   492604440   603438498   649125531   969351941   1376896806  \\\n",
      "Detailed_Label                                                               \n",
      "0                        0           0           0           0           0   \n",
      "1                        0           0           0           0           0   \n",
      "2                        1           1           1           1           1   \n",
      "3                        0           0           0           0           0   \n",
      "\n",
      "orig_ip_bytes   1914793266  \n",
      "Detailed_Label              \n",
      "0                        0  \n",
      "1                        0  \n",
      "2                        1  \n",
      "3                        0  \n",
      "\n",
      "[4 rows x 676 columns]\n"
     ]
    }
   ],
   "source": [
    "print(pd.crosstab(df['Detailed_Label'],df['orig_ip_bytes']))\n"
   ]
  },
  {
   "cell_type": "code",
   "execution_count": 17,
   "metadata": {},
   "outputs": [
    {
     "name": "stdout",
     "output_type": "stream",
     "text": [
      "resp_pkts        0     1     2     3     4     5     6     7     8     9     \\\n",
      "Detailed_Label                                                                \n",
      "0               67766  4460   302     1     3     5    16     0     2     0   \n",
      "1               13282     1    42     0    51     1  1333   233    65     1   \n",
      "2               22735     0     0     0     0     0     0     0     0     0   \n",
      "3               78973   957    18    14   497   202     2     1    10     7   \n",
      "\n",
      "resp_pkts       ...  81    92    96    117   184   268   285   289   340   \\\n",
      "Detailed_Label  ...                                                         \n",
      "0               ...     1     2     1     1     1     1     0     0     0   \n",
      "1               ...     0     0     0     0     0     0     1     1     1   \n",
      "2               ...     0     0     0     0     0     0     0     0     0   \n",
      "3               ...     0     0     0     0     0     0     0     0     0   \n",
      "\n",
      "resp_pkts       1070  \n",
      "Detailed_Label        \n",
      "0                  0  \n",
      "1                  1  \n",
      "2                  0  \n",
      "3                  0  \n",
      "\n",
      "[4 rows x 79 columns]\n"
     ]
    }
   ],
   "source": [
    "print(pd.crosstab(df['Detailed_Label'],df['resp_pkts']))"
   ]
  },
  {
   "cell_type": "code",
   "execution_count": 18,
   "metadata": {},
   "outputs": [
    {
     "name": "stdout",
     "output_type": "stream",
     "text": [
      "\n",
      " train_X = \n",
      "         duration orig_bytes resp_bytes  missed_bytes  orig_pkts  \\\n",
      "98669          0          0          0             0          1   \n",
      "25230          0          0          0             0          1   \n",
      "122274         0          0          0             0          1   \n",
      "84914          0          0          0             0          1   \n",
      "62064          0          0          0             0          1   \n",
      "...          ...        ...        ...           ...        ...   \n",
      "53459   2.999043          0          0             0          3   \n",
      "10742          0          0          0             0          1   \n",
      "49689   2.998793          0          0             0          3   \n",
      "20614          0          0          0             0          0   \n",
      "61615          0          0          0             0          1   \n",
      "\n",
      "        orig_ip_bytes  resp_pkts  resp_ip_bytes  \n",
      "98669              40          0              0  \n",
      "25230              40          0              0  \n",
      "122274             60          0              0  \n",
      "84914              60          0              0  \n",
      "62064              60          0              0  \n",
      "...               ...        ...            ...  \n",
      "53459             180          0              0  \n",
      "10742              40          0              0  \n",
      "49689             180          0              0  \n",
      "20614               0          0              0  \n",
      "61615              60          0              0  \n",
      "\n",
      "[173079 rows x 8 columns]\n",
      "\n",
      " test_X = \n",
      "         duration orig_bytes resp_bytes  missed_bytes  orig_pkts  \\\n",
      "12803          0          0          0             0          0   \n",
      "20776          0          0          0             0          1   \n",
      "40908          0          0          0             0          1   \n",
      "119244         0          0          0             0          1   \n",
      "139958         0          0          0             0          1   \n",
      "...          ...        ...        ...           ...        ...   \n",
      "88976          0          0          0             0          1   \n",
      "92837   2.998794          0          0             0          3   \n",
      "126896         0          0          0             0          1   \n",
      "82408   2.998791          0          0             0          3   \n",
      "27175          0          0          0             0          1   \n",
      "\n",
      "        orig_ip_bytes  resp_pkts  resp_ip_bytes  \n",
      "12803               0          0              0  \n",
      "20776              40          0              0  \n",
      "40908              60          0              0  \n",
      "119244             60          0              0  \n",
      "139958             40          0              0  \n",
      "...               ...        ...            ...  \n",
      "88976              40          0              0  \n",
      "92837             180          0              0  \n",
      "126896             60          0              0  \n",
      "82408             180          0              0  \n",
      "27175              40          0              0  \n",
      "\n",
      "[19231 rows x 8 columns]\n",
      "\n",
      " train_y = \n",
      " 98669     0\n",
      "25230     0\n",
      "122274    3\n",
      "84914     3\n",
      "62064     3\n",
      "         ..\n",
      "53459     3\n",
      "10742     0\n",
      "49689     3\n",
      "20614     2\n",
      "61615     3\n",
      "Name: Detailed_Label, Length: 173079, dtype: int64\n",
      "\n",
      " test_y = \n",
      " 12803     2\n",
      "20776     0\n",
      "40908     3\n",
      "119244    3\n",
      "139958    0\n",
      "         ..\n",
      "88976     0\n",
      "92837     0\n",
      "126896    3\n",
      "82408     3\n",
      "27175     0\n",
      "Name: Detailed_Label, Length: 19231, dtype: int64\n",
      "\n",
      " final_test = \n",
      "         duration orig_bytes resp_bytes  missed_bytes  orig_pkts  \\\n",
      "12803          0          0          0             0          0   \n",
      "20776          0          0          0             0          1   \n",
      "40908          0          0          0             0          1   \n",
      "119244         0          0          0             0          1   \n",
      "139958         0          0          0             0          1   \n",
      "32283          0          0          0             0          1   \n",
      "18844   3.088996          0          0             0          3   \n",
      "91855          0          0          0             0          1   \n",
      "18021          0          0          0             0          1   \n",
      "116328         0          0          0             0          1   \n",
      "2745           0          0          0             0          1   \n",
      "42572          0          0          0             0          1   \n",
      "120165         0          0          0             0          1   \n",
      "101475         0          0          0             0          1   \n",
      "7847           0          0          0             0          1   \n",
      "\n",
      "        orig_ip_bytes  resp_pkts  resp_ip_bytes  \n",
      "12803               0          0              0  \n",
      "20776              40          0              0  \n",
      "40908              60          0              0  \n",
      "119244             60          0              0  \n",
      "139958             40          0              0  \n",
      "32283              40          0              0  \n",
      "18844             180          0              0  \n",
      "91855              40          0              0  \n",
      "18021              60          0              0  \n",
      "116328             40          0              0  \n",
      "2745               60          0              0  \n",
      "42572              60          0              0  \n",
      "120165             40          0              0  \n",
      "101475             40          0              0  \n",
      "7847               40          0              0  \n"
     ]
    }
   ],
   "source": [
    "\n",
    "X = df.iloc[:,0:8]\n",
    "y = df.iloc[:,-1]\n",
    "\n",
    "\n",
    "train_X,test_X,train_y,test_y = train_test_split(X,y,test_size=0.1, random_state=7 )\n",
    "\n",
    "\n",
    "print('\\n train_X = \\n', train_X)\n",
    "print('\\n test_X = \\n', test_X)\n",
    "print('\\n train_y = \\n', train_y)\n",
    "print('\\n test_y = \\n', test_y)\n",
    "final_test = test_X.iloc[0:15]\n",
    "print('\\n final_test = \\n', final_test)\n"
   ]
  },
  {
   "cell_type": "code",
   "execution_count": 19,
   "metadata": {},
   "outputs": [
    {
     "name": "stdout",
     "output_type": "stream",
     "text": [
      "\n",
      " Machine Learning Model Build \n",
      "\n",
      "\n",
      " 12803     2\n",
      "20776     0\n",
      "40908     3\n",
      "119244    3\n",
      "139958    0\n",
      "32283     0\n",
      "18844     1\n",
      "91855     0\n",
      "18021     1\n",
      "116328    0\n",
      "2745      3\n",
      "42572     3\n",
      "120165    0\n",
      "101475    0\n",
      "7847      0\n",
      "Name: Detailed_Label, dtype: int64 \n",
      "\n",
      "RF Alg Accuracy 0.9213769434766783 \n",
      "\n",
      "Output Prediction RF =  [2 0 3 3 0 0 1 0 3 0 3 3 0 0 0] \n",
      "\n"
     ]
    }
   ],
   "source": [
    "print(\"\\n Machine Learning Model Build \\n\")\n",
    "\n",
    "#Random Forest\n",
    "RF = RandomForestClassifier(n_estimators = 100)\n",
    "RF.fit(train_X,train_y)\n",
    "RF_Prediction = RF.predict(test_X)\n",
    "outp = RF.predict(final_test)\n",
    "print('\\n', test_y[:15], '\\n')\n",
    "print(\"RF Alg Accuracy\", accuracy_score(test_y,RF_Prediction), '\\n')\n",
    "print( \"Output Prediction RF = \", outp, '\\n' )\n"
   ]
  },
  {
   "cell_type": "code",
   "execution_count": 20,
   "metadata": {},
   "outputs": [
    {
     "name": "stdout",
     "output_type": "stream",
     "text": [
      "Confusion Matrix: \n",
      " [[6618    2    0  647]\n",
      " [   2  642    0  848]\n",
      " [   0    0 2271    0]\n",
      " [  12    1    0 8188]]\n",
      "\n",
      "\n",
      "Classification Report: \n",
      "               precision    recall  f1-score   support\n",
      "\n",
      "           0       1.00      0.91      0.95      7267\n",
      "           1       1.00      0.43      0.60      1492\n",
      "           2       1.00      1.00      1.00      2271\n",
      "           3       0.85      1.00      0.92      8201\n",
      "\n",
      "    accuracy                           0.92     19231\n",
      "   macro avg       0.96      0.83      0.87     19231\n",
      "weighted avg       0.93      0.92      0.92     19231\n",
      "\n"
     ]
    }
   ],
   "source": [
    "from sklearn.metrics import classification_report,confusion_matrix\n",
    "\n",
    "print('Confusion Matrix: \\n',confusion_matrix(test_y,RF_Prediction))\n",
    "print('\\n')\n",
    "print('Classification Report: \\n',classification_report(test_y,RF_Prediction))\n"
   ]
  },
  {
   "cell_type": "code",
   "execution_count": 21,
   "metadata": {},
   "outputs": [
    {
     "name": "stdout",
     "output_type": "stream",
     "text": [
      "KNN Alg Accuracy 92 Percent\n",
      "Output Prediction KNN =  [2 0 3 3 0 0 1 0 3 0 3 3 0 0 0] \n",
      "\n"
     ]
    }
   ],
   "source": [
    "#KNN\n",
    "KNN_Model = KNeighborsClassifier()\n",
    "KNN_Model.fit(train_X,train_y)\n",
    "KNN_Prediction = KNN_Model.predict(test_X)\n",
    "outp = KNN_Model.predict(final_test)\n",
    "print(\"KNN Alg Accuracy\", int(accuracy_score(test_y,KNN_Prediction) *100), \"Percent\" )\n",
    "print( \"Output Prediction KNN = \", outp, '\\n' )\n",
    "\n"
   ]
  },
  {
   "cell_type": "code",
   "execution_count": 22,
   "metadata": {},
   "outputs": [
    {
     "name": "stdout",
     "output_type": "stream",
     "text": [
      "Confusion Matrix: \n",
      " [[6614    2    0  651]\n",
      " [   0  644    0  848]\n",
      " [   0    0 2271    0]\n",
      " [   3    0    0 8198]]\n",
      "\n",
      "\n",
      "Classification Report: \n",
      "               precision    recall  f1-score   support\n",
      "\n",
      "           0       1.00      0.91      0.95      7267\n",
      "           1       1.00      0.43      0.60      1492\n",
      "           2       1.00      1.00      1.00      2271\n",
      "           3       0.85      1.00      0.92      8201\n",
      "\n",
      "    accuracy                           0.92     19231\n",
      "   macro avg       0.96      0.84      0.87     19231\n",
      "weighted avg       0.93      0.92      0.92     19231\n",
      "\n"
     ]
    }
   ],
   "source": [
    "#from sklearn.metrics import classification_report,confusion_matrix\n",
    "\n",
    "print('Confusion Matrix: \\n',confusion_matrix(test_y,KNN_Prediction))\n",
    "print('\\n')\n",
    "print('Classification Report: \\n',classification_report(test_y,KNN_Prediction))\n"
   ]
  },
  {
   "cell_type": "code",
   "execution_count": 23,
   "metadata": {},
   "outputs": [
    {
     "name": "stdout",
     "output_type": "stream",
     "text": [
      "SVM Alg Accuracy 0.9210129478446258\n",
      "Output Prediction SVM =  [2 0 3 3 0 0 1 0 3 0 3 3 0 0 0] \n",
      "\n"
     ]
    }
   ],
   "source": [
    "#SVM\n",
    "SVM_Model = svm.SVC()\n",
    "SVM_Model.fit(train_X,train_y)\n",
    "SVM_Prediction = SVM_Model.predict(test_X)\n",
    "outp = SVM_Model.predict(final_test)\n",
    "print(\"SVM Alg Accuracy\", accuracy_score(test_y,SVM_Prediction))\n",
    "print( \"Output Prediction SVM = \", outp, '\\n' )"
   ]
  },
  {
   "cell_type": "code",
   "execution_count": 24,
   "metadata": {},
   "outputs": [
    {
     "name": "stdout",
     "output_type": "stream",
     "text": [
      "Confusion Matrix: \n",
      " [[6607    1    0  659]\n",
      " [   0  636    0  856]\n",
      " [   0    0 2268    3]\n",
      " [   0    0    0 8201]]\n",
      "\n",
      "\n",
      "Classification Report: \n",
      "               precision    recall  f1-score   support\n",
      "\n",
      "           0       1.00      0.91      0.95      7267\n",
      "           1       1.00      0.43      0.60      1492\n",
      "           2       1.00      1.00      1.00      2271\n",
      "           3       0.84      1.00      0.92      8201\n",
      "\n",
      "    accuracy                           0.92     19231\n",
      "   macro avg       0.96      0.83      0.87     19231\n",
      "weighted avg       0.93      0.92      0.91     19231\n",
      "\n"
     ]
    }
   ],
   "source": [
    "#from sklearn.metrics import classification_report,confusion_matrix\n",
    "\n",
    "print('Confusion Matrix: \\n',confusion_matrix(test_y,SVM_Prediction))\n",
    "print('\\n')\n",
    "print('Classification Report: \\n',classification_report(test_y,SVM_Prediction))\n"
   ]
  },
  {
   "cell_type": "code",
   "execution_count": 25,
   "metadata": {},
   "outputs": [
    {
     "name": "stdout",
     "output_type": "stream",
     "text": [
      "\n",
      " Machine Learning Model Build \n",
      "\n",
      "\n",
      " 12803     2\n",
      "20776     0\n",
      "40908     3\n",
      "119244    3\n",
      "139958    0\n",
      "32283     0\n",
      "18844     1\n",
      "91855     0\n",
      "18021     1\n",
      "116328    0\n",
      "Name: Detailed_Label, dtype: int64 \n",
      "\n",
      "LR Alg Accuracy 0.4523945712651448 \n",
      "\n",
      "Output Prediction =  [0 3 3 3 3 3 3 3 3 3 3 3 3 3 3] \n",
      "\n"
     ]
    }
   ],
   "source": [
    "print(\"\\n Machine Learning Model Build \\n\")\n",
    "models=[]\n",
    "models.append((\"logreg\",LogisticRegression()))\n",
    "\n",
    "\n",
    "LR = LogisticRegression()\n",
    "LR.fit(train_X,train_y)\n",
    "pred = LR.predict(test_X)\n",
    "outp = LR.predict(final_test)\n",
    "print('\\n', test_y[:10], '\\n')\n",
    "print(\"LR Alg Accuracy\", accuracy_score(test_y,pred), '\\n')\n",
    "print( \"Output Prediction = \", outp, '\\n' )\n"
   ]
  }
 ],
 "metadata": {
  "kernelspec": {
   "display_name": "Python 3",
   "language": "python",
   "name": "python3"
  },
  "language_info": {
   "codemirror_mode": {
    "name": "ipython",
    "version": 3
   },
   "file_extension": ".py",
   "mimetype": "text/x-python",
   "name": "python",
   "nbconvert_exporter": "python",
   "pygments_lexer": "ipython3",
   "version": "3.7.4"
  }
 },
 "nbformat": 4,
 "nbformat_minor": 2
}
